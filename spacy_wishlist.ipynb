{
 "cells": [
  {
   "cell_type": "markdown",
   "metadata": {},
   "source": [
    "# Getting started\n",
    "\n",
    "## Read the docs\n",
    "* [spaCy](https://spacy.io/api/doc)\n",
    "\n",
    "## Install spacy\n",
    "1. Basic installation: `conda install -c conda-forge spacy`\n",
    "2. Download the German model: `python -m spacy download de`"
   ]
  },
  {
   "cell_type": "markdown",
   "metadata": {},
   "source": [
    "# Wish\n",
    "I wish that in spaCy, an entity could be part of another entity. This is [intentionally]() not the case (see for instance [here](https://github.com/explosion/spaCy/issues/2550)).\n",
    "\n",
    "## Why is this a problem?\n",
    "For some NLP tasks, you will need to handle overlapping annotations. Not necessarily annotations of the same type, but for instance hierarchical annotations like paragraphs in a document that contain sentences, phrases that contain tokens or tokens that contain subword-units.\n",
    "\n",
    "Let's see an example."
   ]
  },
  {
   "cell_type": "code",
   "execution_count": 158,
   "metadata": {},
   "outputs": [],
   "source": [
    "import spacy\n",
    "nlp = spacy.load(\"de\")"
   ]
  },
  {
   "cell_type": "markdown",
   "metadata": {},
   "source": [
    "We will use the first few sentences from Rumpelstiltskin as example text. "
   ]
  },
  {
   "cell_type": "code",
   "execution_count": 163,
   "metadata": {},
   "outputs": [
    {
     "name": "stdout",
     "output_type": "stream",
     "text": [
      "Rumpelstilzchen\n",
      "Ein Märchen der Brüder Grimm\n",
      "Es war einmal ein Müller, der war arm, aber er hatte eine schöne Tochter.\n"
     ]
    }
   ],
   "source": [
    "text = \"Rumpelstilzchen\\n\\\n",
    "Ein Märchen der Brüder Grimm\\n\\\n",
    "Es war einmal ein Müller, der war arm, aber er hatte eine schöne Tochter.\"\n",
    "\n",
    "print(text)\n",
    "# process the document with spacy\n",
    "doc = nlp(text, disable=['ner'])"
   ]
  },
  {
   "cell_type": "markdown",
   "metadata": {},
   "source": [
    "Now, add some custom annotations."
   ]
  },
  {
   "cell_type": "code",
   "execution_count": 164,
   "metadata": {},
   "outputs": [
    {
     "name": "stdout",
     "output_type": "stream",
     "text": [
      "headline: Rumpelstilzchen\n",
      "subheader: Ein Märchen der Brüder Grimm\n"
     ]
    }
   ],
   "source": [
    "from spacy.tokens.span import Span\n",
    "# add the custom 'headline' annotation\n",
    "headline = doc.char_span(0, 15, label=\"headline\")\n",
    "print(f\"headline: {headline}\")\n",
    "\n",
    "# add the custom 'subheader' annotation\n",
    "subheader = doc.char_span(16, 44, label=\"subheader\")\n",
    "print(f\"subheader: {subheader}\")\n"
   ]
  },
  {
   "cell_type": "markdown",
   "metadata": {},
   "source": [
    "Let's see if we can store these annotations as entities in the document..."
   ]
  },
  {
   "cell_type": "code",
   "execution_count": 165,
   "metadata": {},
   "outputs": [
    {
     "name": "stdout",
     "output_type": "stream",
     "text": [
      "headline: Rumpelstilzchen\n",
      "subheader: Ein Märchen der Brüder Grimm\n"
     ]
    }
   ],
   "source": [
    "doc.ents = list(doc.ents) + [headline, subheader]\n",
    "for entity in doc.ents:\n",
    "    print(f\"{entity.label_}: {entity}\")"
   ]
  },
  {
   "cell_type": "markdown",
   "metadata": {},
   "source": [
    "All good so far. Let's add another annotation. This time, we want to mark the author as an entity. "
   ]
  },
  {
   "cell_type": "code",
   "execution_count": 166,
   "metadata": {},
   "outputs": [
    {
     "name": "stdout",
     "output_type": "stream",
     "text": [
      "author: Brüder Grimm\n"
     ]
    }
   ],
   "source": [
    "# add the custom 'author' annotation\n",
    "author = doc.char_span(32, 44, label=\"author\")\n",
    "print(f\"author: {author}\")"
   ]
  },
  {
   "cell_type": "code",
   "execution_count": 167,
   "metadata": {},
   "outputs": [
    {
     "ename": "ValueError",
     "evalue": "[E098] Trying to set conflicting doc.ents: '(2, 7, 'subheader')' and '(5, 7, 'author')'. A token can only be part of one entity, so make sure the entities you're setting don't overlap.",
     "output_type": "error",
     "traceback": [
      "\u001b[0;31m---------------------------------------------------------------------------\u001b[0m",
      "\u001b[0;31mValueError\u001b[0m                                Traceback (most recent call last)",
      "\u001b[0;32m<ipython-input-167-7fc140f3a26f>\u001b[0m in \u001b[0;36m<module>\u001b[0;34m\u001b[0m\n\u001b[0;32m----> 1\u001b[0;31m \u001b[0mdoc\u001b[0m\u001b[0;34m.\u001b[0m\u001b[0ments\u001b[0m \u001b[0;34m=\u001b[0m \u001b[0mlist\u001b[0m\u001b[0;34m(\u001b[0m\u001b[0mdoc\u001b[0m\u001b[0;34m.\u001b[0m\u001b[0ments\u001b[0m\u001b[0;34m)\u001b[0m \u001b[0;34m+\u001b[0m \u001b[0;34m[\u001b[0m\u001b[0mauthor\u001b[0m\u001b[0;34m]\u001b[0m\u001b[0;34m\u001b[0m\u001b[0;34m\u001b[0m\u001b[0m\n\u001b[0m",
      "\u001b[0;32mdoc.pyx\u001b[0m in \u001b[0;36mspacy.tokens.doc.Doc.ents.__set__\u001b[0;34m()\u001b[0m\n",
      "\u001b[0;31mValueError\u001b[0m: [E098] Trying to set conflicting doc.ents: '(2, 7, 'subheader')' and '(5, 7, 'author')'. A token can only be part of one entity, so make sure the entities you're setting don't overlap."
     ]
    }
   ],
   "source": [
    "doc.ents = list(doc.ents) + [author]"
   ]
  },
  {
   "cell_type": "markdown",
   "metadata": {},
   "source": [
    "Bam. That does not work."
   ]
  },
  {
   "cell_type": "markdown",
   "metadata": {},
   "source": [
    "## Relation extraction as a use-case scenario"
   ]
  },
  {
   "cell_type": "markdown",
   "metadata": {},
   "source": [
    "Assume you have a **relation extraction** task. If you are not familiar with this specific NLP task, the [repository by Sebastian Ruder](https://github.com/sebastianruder/NLP-progress/blob/master/english/relationship_extraction.md) is a really good starting point for an overview. For instance, you would like to extract some person's role in a political party. For a supervised extraction model, you will have to annotate some examples. One might look like this: "
   ]
  },
  {
   "cell_type": "code",
   "execution_count": 168,
   "metadata": {},
   "outputs": [
    {
     "name": "stdout",
     "output_type": "stream",
     "text": [
      "SPD-Vorstand ORG\n"
     ]
    }
   ],
   "source": [
    "text = \"Frau Müller ist SPD-Vorstand.\"\n",
    "doc = nlp(text)\n",
    "\n",
    "# print the Named Entities that are recognized with the default model\n",
    "for entity in doc.ents:\n",
    "    print(entity, entity.label_)"
   ]
  },
  {
   "cell_type": "markdown",
   "metadata": {},
   "source": [
    "spaCy's NER model already marked a Named Entity. But for our scenario, we need to go a bit more into detail. We would like to mark the chars 'SPD' as party and the chars 'Vorstand' as role. Let's try to do this."
   ]
  },
  {
   "cell_type": "code",
   "execution_count": 169,
   "metadata": {},
   "outputs": [
    {
     "name": "stdout",
     "output_type": "stream",
     "text": [
      "None\n",
      "None\n"
     ]
    }
   ],
   "source": [
    "# add the annotations\n",
    "custom_annotations = []\n",
    "party = doc.char_span(16, 19, label=\"party\")\n",
    "custom_annotations.append(party)\n",
    "role = doc.char_span(20, 28, label=\"role\")\n",
    "custom_annotations.append(role)\n",
    "\n",
    "for annotation in custom_annotations:\n",
    "    print(annotation)"
   ]
  },
  {
   "cell_type": "markdown",
   "metadata": {},
   "source": [
    "Oops. No annotations were added. That's because we tried to add additional spans in an already existing annotation. spaCy should at least have thrown an error, right?\n",
    "Let's try again but this time without a predefined NER model so that no Named Entities will be added."
   ]
  },
  {
   "cell_type": "code",
   "execution_count": 170,
   "metadata": {},
   "outputs": [
    {
     "name": "stdout",
     "output_type": "stream",
     "text": [
      "None\n",
      "None\n"
     ]
    }
   ],
   "source": [
    "doc = nlp(text, disable=['ner'])\n",
    "assert len(doc.ents) == 0\n",
    "\n",
    "# add the annotations\n",
    "custom_annotations = []\n",
    "party = doc.char_span(16, 19, label=\"party\")\n",
    "custom_annotations.append(party)\n",
    "role = doc.char_span(20, 28, label=\"role\")\n",
    "custom_annotations.append(role)\n",
    "\n",
    "for annotation in custom_annotations:\n",
    "    print(annotation)"
   ]
  },
  {
   "cell_type": "markdown",
   "metadata": {},
   "source": [
    "This **still** does not work. Guess why? Because the span 'SPD-Vorstand' is also a token, another type of span is spaCy. And again, we are not allowed to add an annotation that would cover a subsequence of that span."
   ]
  }
 ],
 "metadata": {
  "kernelspec": {
   "display_name": "Python 3",
   "language": "python",
   "name": "python3"
  },
  "language_info": {
   "codemirror_mode": {
    "name": "ipython",
    "version": 3
   },
   "file_extension": ".py",
   "mimetype": "text/x-python",
   "name": "python",
   "nbconvert_exporter": "python",
   "pygments_lexer": "ipython3",
   "version": "3.7.1"
  }
 },
 "nbformat": 4,
 "nbformat_minor": 1
}
